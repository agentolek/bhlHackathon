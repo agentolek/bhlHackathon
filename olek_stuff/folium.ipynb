{
 "cells": [
  {
   "cell_type": "code",
   "execution_count": 5,
   "metadata": {},
   "outputs": [],
   "source": [
    "import folium\n",
    "import folium.plugins\n",
    "import numpy as np\n",
    "\n",
    "m = folium.Map(location=[52.23, 21.01],\n",
    "               zoom_start=9,\n",
    "               zoom_control=False,\n",
    "               scrollWheelZoom=False,\n",
    "               dragging=False)"
   ]
  },
  {
   "cell_type": "code",
   "execution_count": null,
   "metadata": {},
   "outputs": [
    {
     "data": {
      "text/plain": [
       "<folium.vector_layers.Circle at 0x7fdd3d112740>"
      ]
     },
     "execution_count": 6,
     "metadata": {},
     "output_type": "execute_result"
    }
   ],
   "source": [
    "# warsaw coordinates: [52.23, 21.01]\n",
    "\n",
    "# radius = 10000\n",
    "# folium.Circle(\n",
    "#     location=[52.23, 21.01],\n",
    "#     radius=radius,\n",
    "#     color=\"black\",\n",
    "#     weight=1,\n",
    "#     fill_opacity=0.6,\n",
    "#     opacity=1,\n",
    "#     fill_color=\"green\",\n",
    "#     popup=\"{} meters\".format(radius),\n",
    "#     tooltip=\"I am in meters\",\n",
    "# ).add_to(m)"
   ]
  },
  {
   "cell_type": "code",
   "execution_count": 7,
   "metadata": {},
   "outputs": [
    {
     "data": {
      "text/html": [
       "<div style=\"width:100%;\"><div style=\"position:relative;width:100%;height:0;padding-bottom:60%;\"><span style=\"color:#565656\">Make this Notebook Trusted to load map: File -> Trust Notebook</span><iframe srcdoc=\"&lt;!DOCTYPE html&gt;\n",
       "&lt;html&gt;\n",
       "&lt;head&gt;\n",
       "    \n",
       "    &lt;meta http-equiv=&quot;content-type&quot; content=&quot;text/html; charset=UTF-8&quot; /&gt;\n",
       "    \n",
       "        &lt;script&gt;\n",
       "            L_NO_TOUCH = false;\n",
       "            L_DISABLE_3D = false;\n",
       "        &lt;/script&gt;\n",
       "    \n",
       "    &lt;style&gt;html, body {width: 100%;height: 100%;margin: 0;padding: 0;}&lt;/style&gt;\n",
       "    &lt;style&gt;#map {position:absolute;top:0;bottom:0;right:0;left:0;}&lt;/style&gt;\n",
       "    &lt;script src=&quot;https://cdn.jsdelivr.net/npm/leaflet@1.9.3/dist/leaflet.js&quot;&gt;&lt;/script&gt;\n",
       "    &lt;script src=&quot;https://code.jquery.com/jquery-3.7.1.min.js&quot;&gt;&lt;/script&gt;\n",
       "    &lt;script src=&quot;https://cdn.jsdelivr.net/npm/bootstrap@5.2.2/dist/js/bootstrap.bundle.min.js&quot;&gt;&lt;/script&gt;\n",
       "    &lt;script src=&quot;https://cdnjs.cloudflare.com/ajax/libs/Leaflet.awesome-markers/2.0.2/leaflet.awesome-markers.js&quot;&gt;&lt;/script&gt;\n",
       "    &lt;link rel=&quot;stylesheet&quot; href=&quot;https://cdn.jsdelivr.net/npm/leaflet@1.9.3/dist/leaflet.css&quot;/&gt;\n",
       "    &lt;link rel=&quot;stylesheet&quot; href=&quot;https://cdn.jsdelivr.net/npm/bootstrap@5.2.2/dist/css/bootstrap.min.css&quot;/&gt;\n",
       "    &lt;link rel=&quot;stylesheet&quot; href=&quot;https://netdna.bootstrapcdn.com/bootstrap/3.0.0/css/bootstrap-glyphicons.css&quot;/&gt;\n",
       "    &lt;link rel=&quot;stylesheet&quot; href=&quot;https://cdn.jsdelivr.net/npm/@fortawesome/fontawesome-free@6.2.0/css/all.min.css&quot;/&gt;\n",
       "    &lt;link rel=&quot;stylesheet&quot; href=&quot;https://cdnjs.cloudflare.com/ajax/libs/Leaflet.awesome-markers/2.0.2/leaflet.awesome-markers.css&quot;/&gt;\n",
       "    &lt;link rel=&quot;stylesheet&quot; href=&quot;https://cdn.jsdelivr.net/gh/python-visualization/folium/folium/templates/leaflet.awesome.rotate.min.css&quot;/&gt;\n",
       "    \n",
       "            &lt;meta name=&quot;viewport&quot; content=&quot;width=device-width,\n",
       "                initial-scale=1.0, maximum-scale=1.0, user-scalable=no&quot; /&gt;\n",
       "            &lt;style&gt;\n",
       "                #map_2b736917bc1126959f5ec632c95c9713 {\n",
       "                    position: relative;\n",
       "                    width: 100.0%;\n",
       "                    height: 100.0%;\n",
       "                    left: 0.0%;\n",
       "                    top: 0.0%;\n",
       "                }\n",
       "                .leaflet-container { font-size: 1rem; }\n",
       "            &lt;/style&gt;\n",
       "        \n",
       "    &lt;script src=&quot;https://cdn.jsdelivr.net/gh/python-visualization/folium@main/folium/templates/leaflet_heat.min.js&quot;&gt;&lt;/script&gt;\n",
       "&lt;/head&gt;\n",
       "&lt;body&gt;\n",
       "    \n",
       "    \n",
       "            &lt;div class=&quot;folium-map&quot; id=&quot;map_2b736917bc1126959f5ec632c95c9713&quot; &gt;&lt;/div&gt;\n",
       "        \n",
       "&lt;/body&gt;\n",
       "&lt;script&gt;\n",
       "    \n",
       "    \n",
       "            var map_2b736917bc1126959f5ec632c95c9713 = L.map(\n",
       "                &quot;map_2b736917bc1126959f5ec632c95c9713&quot;,\n",
       "                {\n",
       "                    center: [52.23, 21.01],\n",
       "                    crs: L.CRS.EPSG3857,\n",
       "                    zoom: 9,\n",
       "                    zoomControl: false,\n",
       "                    preferCanvas: false,\n",
       "                    scrollWheelZoom: false,\n",
       "                    dragging: false,\n",
       "                }\n",
       "            );\n",
       "\n",
       "            \n",
       "\n",
       "        \n",
       "    \n",
       "            var tile_layer_1f84e8c65408c70896578c043d105c90 = L.tileLayer(\n",
       "                &quot;https://tile.openstreetmap.org/{z}/{x}/{y}.png&quot;,\n",
       "                {&quot;attribution&quot;: &quot;\\u0026copy; \\u003ca href=\\&quot;https://www.openstreetmap.org/copyright\\&quot;\\u003eOpenStreetMap\\u003c/a\\u003e contributors&quot;, &quot;detectRetina&quot;: false, &quot;maxNativeZoom&quot;: 19, &quot;maxZoom&quot;: 19, &quot;minZoom&quot;: 0, &quot;noWrap&quot;: false, &quot;opacity&quot;: 1, &quot;subdomains&quot;: &quot;abc&quot;, &quot;tms&quot;: false}\n",
       "            );\n",
       "        \n",
       "    \n",
       "            tile_layer_1f84e8c65408c70896578c043d105c90.addTo(map_2b736917bc1126959f5ec632c95c9713);\n",
       "        \n",
       "    \n",
       "            var circle_9a9b8fa79666e14188f32a138d90e938 = L.circle(\n",
       "                [52.23, 21.01],\n",
       "                {&quot;bubblingMouseEvents&quot;: true, &quot;color&quot;: &quot;black&quot;, &quot;dashArray&quot;: null, &quot;dashOffset&quot;: null, &quot;fill&quot;: true, &quot;fillColor&quot;: &quot;green&quot;, &quot;fillOpacity&quot;: 0.6, &quot;fillRule&quot;: &quot;evenodd&quot;, &quot;lineCap&quot;: &quot;round&quot;, &quot;lineJoin&quot;: &quot;round&quot;, &quot;opacity&quot;: 1, &quot;radius&quot;: 10000, &quot;stroke&quot;: true, &quot;weight&quot;: 1}\n",
       "            ).addTo(map_2b736917bc1126959f5ec632c95c9713);\n",
       "        \n",
       "    \n",
       "        var popup_7d945e19bae169b2fc51d348f2d7f0bf = L.popup({&quot;maxWidth&quot;: &quot;100%&quot;});\n",
       "\n",
       "        \n",
       "            \n",
       "                var html_0c4813529897127f6c18acada8b8e063 = $(`&lt;div id=&quot;html_0c4813529897127f6c18acada8b8e063&quot; style=&quot;width: 100.0%; height: 100.0%;&quot;&gt;10000 meters&lt;/div&gt;`)[0];\n",
       "                popup_7d945e19bae169b2fc51d348f2d7f0bf.setContent(html_0c4813529897127f6c18acada8b8e063);\n",
       "            \n",
       "        \n",
       "\n",
       "        circle_9a9b8fa79666e14188f32a138d90e938.bindPopup(popup_7d945e19bae169b2fc51d348f2d7f0bf)\n",
       "        ;\n",
       "\n",
       "        \n",
       "    \n",
       "    \n",
       "            circle_9a9b8fa79666e14188f32a138d90e938.bindTooltip(\n",
       "                `&lt;div&gt;\n",
       "                     I am in meters\n",
       "                 &lt;/div&gt;`,\n",
       "                {&quot;sticky&quot;: true}\n",
       "            );\n",
       "        \n",
       "    \n",
       "            var heat_map_0bc7fc0f35fd61c3b55587f0d6183707 = L.heatLayer(\n",
       "                [[-3.943050106022014, -35.16305010602201, 0.0], [10.100212420483489, -35.16305010602201, 0.0], [24.14347494698899, -35.16305010602201, 0.0], [38.186737473494496, -35.16305010602201, 0.0], [52.23, -35.16305010602201, 0.0], [66.2732625265055, -35.16305010602201, 0.0], [80.316525053011, -35.16305010602201, 0.0], [94.3597875795165, -35.16305010602201, 0.0], [108.40305010602201, -35.16305010602201, 0.0], [-3.943050106022014, -21.11978757951651, 0.0], [10.100212420483489, -21.11978757951651, 0.0], [24.14347494698899, -21.11978757951651, 0.43301270189221924], [38.186737473494496, -21.11978757951651, 0.6123724356957945], [52.23, -21.11978757951651, 0.6614378277661475], [66.2732625265055, -21.11978757951651, 0.6123724356957942], [80.316525053011, -21.11978757951651, 0.43301270189221924], [94.3597875795165, -21.11978757951651, 0.0], [108.40305010602201, -21.11978757951651, 0.0], [-3.943050106022014, -7.076525053011007, 0.0], [10.100212420483489, -7.076525053011007, 0.43301270189221924], [24.14347494698899, -7.076525053011007, 0.7071067811865476], [38.186737473494496, -7.076525053011007, 0.82915619758885], [52.23, -7.076525053011007, 0.8660254037844386], [66.2732625265055, -7.076525053011007, 0.82915619758885], [80.316525053011, -7.076525053011007, 0.7071067811865476], [94.3597875795165, -7.076525053011007, 0.43301270189221924], [108.40305010602201, -7.076525053011007, 0.0], [-3.943050106022014, 6.966737473494497, 0.0], [10.100212420483489, 6.966737473494497, 0.6123724356957946], [24.14347494698899, 6.966737473494497, 0.82915619758885], [38.186737473494496, 6.966737473494497, 0.9354143466934853], [52.23, 6.966737473494497, 0.9682458365518544], [66.2732625265055, 6.966737473494497, 0.9354143466934853], [80.316525053011, 6.966737473494497, 0.82915619758885], [94.3597875795165, 6.966737473494497, 0.6123724356957946], [108.40305010602201, 6.966737473494497, 0.0], [-3.943050106022014, 21.009999999999998, 0.0], [10.100212420483489, 21.009999999999998, 0.6614378277661477], [24.14347494698899, 21.009999999999998, 0.8660254037844386], [38.186737473494496, 21.009999999999998, 0.9682458365518544], [52.23, 21.009999999999998, 1.0], [66.2732625265055, 21.009999999999998, 0.9682458365518541], [80.316525053011, 21.009999999999998, 0.8660254037844386], [94.3597875795165, 21.009999999999998, 0.6614378277661477], [108.40305010602201, 21.009999999999998, 0.0], [-3.943050106022014, 35.053262526505506, 0.0], [10.100212420483489, 35.053262526505506, 0.6123724356957946], [24.14347494698899, 35.053262526505506, 0.82915619758885], [38.186737473494496, 35.053262526505506, 0.9354143466934853], [52.23, 35.053262526505506, 0.9682458365518544], [66.2732625265055, 35.053262526505506, 0.9354143466934853], [80.316525053011, 35.053262526505506, 0.82915619758885], [94.3597875795165, 35.053262526505506, 0.6123724356957946], [108.40305010602201, 35.053262526505506, 0.0], [-3.943050106022014, 49.09652505301101, 0.0], [10.100212420483489, 49.09652505301101, 0.43301270189221946], [24.14347494698899, 49.09652505301101, 0.7071067811865476], [38.186737473494496, 49.09652505301101, 0.82915619758885], [52.23, 49.09652505301101, 0.8660254037844386], [66.2732625265055, 49.09652505301101, 0.82915619758885], [80.316525053011, 49.09652505301101, 0.7071067811865476], [94.3597875795165, 49.09652505301101, 0.43301270189221946], [108.40305010602201, 49.09652505301101, 0.0], [-3.943050106022014, 63.13978757951651, 0.0], [10.100212420483489, 63.13978757951651, 0.0], [24.14347494698899, 63.13978757951651, 0.43301270189221946], [38.186737473494496, 63.13978757951651, 0.6123724356957948], [52.23, 63.13978757951651, 0.6614378277661478], [66.2732625265055, 63.13978757951651, 0.6123724356957946], [80.316525053011, 63.13978757951651, 0.43301270189221946], [94.3597875795165, 63.13978757951651, 0.0], [108.40305010602201, 63.13978757951651, 0.0], [-3.943050106022014, 77.18305010602201, 0.0], [10.100212420483489, 77.18305010602201, 0.0], [24.14347494698899, 77.18305010602201, 0.0], [38.186737473494496, 77.18305010602201, 0.0], [52.23, 77.18305010602201, 1.6977435168755625e-08], [66.2732625265055, 77.18305010602201, 0.0], [80.316525053011, 77.18305010602201, 0.0], [94.3597875795165, 77.18305010602201, 0.0], [108.40305010602201, 77.18305010602201, 0.0]],\n",
       "                {&quot;blur&quot;: 15, &quot;maxZoom&quot;: 18, &quot;minOpacity&quot;: 0.5, &quot;radius&quot;: 25}\n",
       "            );\n",
       "        \n",
       "    \n",
       "            heat_map_0bc7fc0f35fd61c3b55587f0d6183707.addTo(map_2b736917bc1126959f5ec632c95c9713);\n",
       "        \n",
       "    \n",
       "            tile_layer_1f84e8c65408c70896578c043d105c90.addTo(map_2b736917bc1126959f5ec632c95c9713);\n",
       "        \n",
       "    \n",
       "            heat_map_0bc7fc0f35fd61c3b55587f0d6183707.addTo(map_2b736917bc1126959f5ec632c95c9713);\n",
       "        \n",
       "&lt;/script&gt;\n",
       "&lt;/html&gt;\" style=\"position:absolute;width:100%;height:100%;left:0;top:0;border:none !important;\" allowfullscreen webkitallowfullscreen mozallowfullscreen></iframe></div></div>"
      ],
      "text/plain": [
       "<folium.folium.Map at 0x7fdd3d111e40>"
      ]
     },
     "execution_count": 7,
     "metadata": {},
     "output_type": "execute_result"
    }
   ],
   "source": [
    "from calc_satellite_emissions import generate_heatmap\n",
    "\n",
    "data = generate_heatmap(0, 250, [52.23, 21.01])\n",
    "\n",
    "folium.plugins.HeatMap(data).add_to(m)\n",
    "\n",
    "m.save(\"index.html\")\n",
    "m"
   ]
  },
  {
   "cell_type": "code",
   "execution_count": null,
   "metadata": {},
   "outputs": [],
   "source": []
  },
  {
   "cell_type": "code",
   "execution_count": null,
   "metadata": {},
   "outputs": [],
   "source": []
  }
 ],
 "metadata": {
  "kernelspec": {
   "display_name": "Python 3",
   "language": "python",
   "name": "python3"
  },
  "language_info": {
   "codemirror_mode": {
    "name": "ipython",
    "version": 3
   },
   "file_extension": ".py",
   "mimetype": "text/x-python",
   "name": "python",
   "nbconvert_exporter": "python",
   "pygments_lexer": "ipython3",
   "version": "3.10.12"
  }
 },
 "nbformat": 4,
 "nbformat_minor": 2
}
