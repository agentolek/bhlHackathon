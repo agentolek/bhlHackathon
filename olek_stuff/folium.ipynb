{
 "cells": [
  {
   "cell_type": "code",
   "execution_count": null,
   "metadata": {},
   "outputs": [],
   "source": [
    "import folium\n",
    "import folium.plugins\n",
    "import numpy as np\n",
    "\n",
    "m = folium.Map(location=[52.23, 21.01],\n",
    "               zoom_start=9,\n",
    "               zoom_control=False,\n",
    "               scrollWheelZoom=False,\n",
    "               dragging=False)"
   ]
  },
  {
   "cell_type": "code",
   "execution_count": null,
   "metadata": {},
   "outputs": [
    {
     "ename": "NameError",
     "evalue": "name 'np' is not defined",
     "output_type": "error",
     "traceback": [
      "\u001b[0;31m---------------------------------------------------------------------------\u001b[0m",
      "\u001b[0;31mNameError\u001b[0m                                 Traceback (most recent call last)",
      "Cell \u001b[0;32mIn[25], line 18\u001b[0m\n\u001b[1;32m      4\u001b[0m radius \u001b[38;5;241m=\u001b[39m \u001b[38;5;241m10000\u001b[39m\n\u001b[1;32m      5\u001b[0m folium\u001b[38;5;241m.\u001b[39mCircle(\n\u001b[1;32m      6\u001b[0m     location\u001b[38;5;241m=\u001b[39m[\u001b[38;5;241m52.23\u001b[39m, \u001b[38;5;241m21.01\u001b[39m],\n\u001b[1;32m      7\u001b[0m     radius\u001b[38;5;241m=\u001b[39mradius,\n\u001b[0;32m   (...)\u001b[0m\n\u001b[1;32m     14\u001b[0m     tooltip\u001b[38;5;241m=\u001b[39m\u001b[38;5;124m\"\u001b[39m\u001b[38;5;124mI am in meters\u001b[39m\u001b[38;5;124m\"\u001b[39m,\n\u001b[1;32m     15\u001b[0m )\u001b[38;5;241m.\u001b[39madd_to(m)\n\u001b[1;32m     17\u001b[0m data \u001b[38;5;241m=\u001b[39m (\n\u001b[0;32m---> 18\u001b[0m     \u001b[43mnp\u001b[49m\u001b[38;5;241m.\u001b[39mrandom\u001b[38;5;241m.\u001b[39mnormal(size\u001b[38;5;241m=\u001b[39m(\u001b[38;5;241m100\u001b[39m, \u001b[38;5;241m3\u001b[39m)) \u001b[38;5;241m*\u001b[39m np\u001b[38;5;241m.\u001b[39marray([[\u001b[38;5;241m1\u001b[39m, \u001b[38;5;241m1\u001b[39m, \u001b[38;5;241m1\u001b[39m]]) \u001b[38;5;241m+\u001b[39m np\u001b[38;5;241m.\u001b[39marray([[\u001b[38;5;241m52.23\u001b[39m, \u001b[38;5;241m21.01\u001b[39m, \u001b[38;5;241m1\u001b[39m]])\n\u001b[1;32m     19\u001b[0m )\u001b[38;5;241m.\u001b[39mtolist()\n\u001b[1;32m     21\u001b[0m folium\u001b[38;5;241m.\u001b[39mplugins\u001b[38;5;241m.\u001b[39mHeatMap(data)\u001b[38;5;241m.\u001b[39madd_to(m)\n\u001b[1;32m     23\u001b[0m m\u001b[38;5;241m.\u001b[39msave(\u001b[38;5;124m\"\u001b[39m\u001b[38;5;124mindex.html\u001b[39m\u001b[38;5;124m\"\u001b[39m)\n",
      "\u001b[0;31mNameError\u001b[0m: name 'np' is not defined"
     ]
    }
   ],
   "source": [
    "radius = 10000\n",
    "folium.Circle(\n",
    "    location=[52.23, 21.01],\n",
    "    radius=radius,\n",
    "    color=\"black\",\n",
    "    weight=1,\n",
    "    fill_opacity=0.6,\n",
    "    opacity=1,\n",
    "    fill_color=\"green\",\n",
    "    popup=\"{} meters\".format(radius),\n",
    "    tooltip=\"I am in meters\",\n",
    ").add_to(m)\n",
    "\n",
    "data = (\n",
    "    np.random.normal(size=(100, 3)) * np.array([[1, 1, 1]]) + np.array([[52.23, 21.01, 1]])\n",
    ").tolist()\n",
    "\n",
    "folium.plugins.HeatMap(data).add_to(m)\n",
    "\n",
    "m.save(\"index.html\")\n",
    "m"
   ]
  },
  {
   "cell_type": "code",
   "execution_count": null,
   "metadata": {},
   "outputs": [],
   "source": []
  }
 ],
 "metadata": {
  "kernelspec": {
   "display_name": "Python 3",
   "language": "python",
   "name": "python3"
  },
  "language_info": {
   "codemirror_mode": {
    "name": "ipython",
    "version": 3
   },
   "file_extension": ".py",
   "mimetype": "text/x-python",
   "name": "python",
   "nbconvert_exporter": "python",
   "pygments_lexer": "ipython3",
   "version": "3.10.12"
  }
 },
 "nbformat": 4,
 "nbformat_minor": 2
}
